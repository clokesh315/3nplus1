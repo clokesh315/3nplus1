{
  "nbformat": 4,
  "nbformat_minor": 0,
  "metadata": {
    "colab": {
      "name": "3n+1.ipynb",
      "provenance": [],
      "collapsed_sections": [],
      "authorship_tag": "ABX9TyMZh9gQztmsN19ktYjp/HE/",
      "include_colab_link": true
    },
    "kernelspec": {
      "name": "python3",
      "display_name": "Python 3"
    }
  },
  "cells": [
    {
      "cell_type": "markdown",
      "metadata": {
        "id": "view-in-github",
        "colab_type": "text"
      },
      "source": [
        "<a href=\"https://colab.research.google.com/github/clokesh315/3nplus1/blob/main/3n%2B1.ipynb\" target=\"_parent\"><img src=\"https://colab.research.google.com/assets/colab-badge.svg\" alt=\"Open In Colab\"/></a>"
      ]
    },
    {
      "cell_type": "code",
      "metadata": {
        "id": "B36ePG8mfA5v"
      },
      "source": [
        "# defining 3n + 1 conditions\r\n",
        "# num is used for taking each number between 1 to 100\r\n",
        "def three_n_plus_one(num):\r\n",
        "  count = 1      # variable used for counting number of cycle\r\n",
        "  while num > 1:\r\n",
        "    if (num % 2 == 0):  # If the number is even then divide by 2\r\n",
        "      num = num/2\r\n",
        "    else:\r\n",
        "      num = 3 * num + 1   # If the number is odd then 3(number) + 1\r\n",
        "    count = count + 1     \r\n",
        "  return count"
      ],
      "execution_count": 2,
      "outputs": []
    },
    {
      "cell_type": "code",
      "metadata": {
        "id": "CGMzz1g8fLCD"
      },
      "source": [
        "# num1 & num2 are variables used for inputs of i and j\r\n",
        "def MaximumCycle(num1, num2):\r\n",
        "  Maximum_cycle = 0         # Initialized to zero\r\n",
        "  num2 = num2 + 1           # To add last number\r\n",
        "  for i in range(num1, num2): # i is numbers between num1 & num2\r\n",
        "    count = three_n_plus_one(i) \r\n",
        "    if Maximum_cycle < count:\r\n",
        "      Maximum_cycle = count\r\n",
        "  return Maximum_cycle"
      ],
      "execution_count": 3,
      "outputs": []
    },
    {
      "cell_type": "code",
      "metadata": {
        "colab": {
          "base_uri": "https://localhost:8080/"
        },
        "id": "tWnycCssfSRV",
        "outputId": "6936f837-7ef2-4f5b-e42d-f800ff92585f"
      },
      "source": [
        "    num1, num2 = map(int, input().split())  \r\n",
        "     \r\n",
        "    Maximum_cycle = MaximumCycle(num1, num2)\r\n",
        "    \r\n",
        "    #Output of program\r\n",
        "    print(\"{0} {1} {2}\".format(num1, num2, Maximum_cycle))  "
      ],
      "execution_count": 5,
      "outputs": [
        {
          "output_type": "stream",
          "text": [
            "900 1000\n",
            "900 1000 174\n"
          ],
          "name": "stdout"
        }
      ]
    }
  ]
}